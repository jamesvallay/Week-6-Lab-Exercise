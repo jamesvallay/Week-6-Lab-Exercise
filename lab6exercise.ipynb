{
 "cells": [
  {
   "cell_type": "code",
   "execution_count": 10,
   "metadata": {},
   "outputs": [
    {
     "name": "stdin",
     "output_type": "stream",
     "text": [
      "What is your favorite number? 4\n",
      "What is your name? fg\n"
     ]
    },
    {
     "name": "stdout",
     "output_type": "stream",
     "text": [
      "Thank you for your time, fg, we will keep the square of your favorite number (16) a secret.\n"
     ]
    }
   ],
   "source": [
    "#while loop is used to make sure user inputs an int\n",
    "while True:\n",
    "    favnum = input(prompt = \"What is your favorite number?\")#asks for fav number\n",
    "    if favnum.isdigit() or favnum.isdecimal(): #checks if num is an int/float or not\n",
    "        break\n",
    "    else:\n",
    "        print(\"Invalid input. please enter an integer.\")\n",
    "        \n",
    "        \n",
    "while True: #while loop is used to make sure the name doesnt contain unprintable characters\n",
    "    name = input(prompt = \"What is your name?\")\n",
    "    if not name.isprintable():\n",
    "        print(\"Your name has some weird stuff in it. I don't think I can work with that. Try again...\")\n",
    "    else:\n",
    "        break\n",
    "#name.strip() removes any extraneous spaces on the ends of the name\n",
    "favnum2 = int(favnum)**2\n",
    "print(\"Thank you for your time, \" + name.strip() + \", we will keep the square of your favorite number (\" + str(favnum2 + \") a secret.\")\n",
    "    "
   ]
  }
 ],
 "metadata": {
  "kernelspec": {
   "display_name": "Python 3.7",
   "language": "python",
   "name": "python3"
  },
  "language_info": {
   "codemirror_mode": {
    "name": "ipython",
    "version": 3
   },
   "file_extension": ".py",
   "mimetype": "text/x-python",
   "name": "python",
   "nbconvert_exporter": "python",
   "pygments_lexer": "ipython3",
   "version": "3.7.0"
  }
 },
 "nbformat": 4,
 "nbformat_minor": 2
}
